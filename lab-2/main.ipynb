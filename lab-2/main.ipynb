{
 "cells": [
  {
   "cell_type": "markdown",
   "metadata": {},
   "source": [
    "**Metoda najmniejszych kwadratów**"
   ]
  },
  {
   "cell_type": "code",
   "execution_count": null,
   "metadata": {},
   "outputs": [],
   "source": [
    "import numpy as np\n",
    "import scipy\n",
    "import matplotlib.pyplot as plt\n",
    "import pandas as pd"
   ]
  },
  {
   "cell_type": "markdown",
   "metadata": {},
   "source": [
    "**Zadanie 1.**"
   ]
  },
  {
   "cell_type": "code",
   "execution_count": null,
   "metadata": {},
   "outputs": [],
   "source": [
    "train_file = \"conspect/dataset/breast-cancer-train.dat\"\n",
    "validate_file = \"conspect/dataset/breast-cancer-validate.dat\"\n",
    "train = pd.io.parsers.read_csv(train_file, header=None)\n",
    "validate = pd.io.parsers.read_csv(validate_file, header=None)"
   ]
  },
  {
   "cell_type": "code",
   "execution_count": null,
   "metadata": {},
   "outputs": [],
   "source": [
    "train.iloc[:, 2].hist()\n",
    "plt.show()\n",
    "train.iloc[:, 2].plot()\n",
    "plt.show()"
   ]
  },
  {
   "cell_type": "code",
   "execution_count": 125,
   "metadata": {},
   "outputs": [],
   "source": [
    "# A matrix - Linear\n",
    "\n",
    "A_lin_train = np.matrix(train.iloc[:, 2:])\n",
    "A_lin_validate = np.matrix(validate.iloc[:, 2:])\n",
    "\n",
    "# A matrix - Quadratic\n",
    "\n",
    "# Train data:\n",
    "f1, f2, f3, f4 = train.iloc[:, 2], train.iloc[:, 4], train.iloc[:, 5], train.iloc[:, 10]\n",
    "\n",
    "# linear terms\n",
    "a1 = np.matrix(pd.concat([f1, f2, f3, f4], axis=1))\n",
    "# squared terms\n",
    "a2 = np.square(a1)\n",
    "# multiplied terms\n",
    "a3 = np.matrix(pd.concat([f1*f2, f1*f3, f1*f4, f2*f3, f2*f4, f3*f4], axis=1))\n",
    "\n",
    "A_quad_train = np.concatenate((a1, a2, a3), axis=1)\n",
    "\n",
    "# Validate data:\n",
    "f1, f2, f3, f4 = validate.iloc[:, 2], validate.iloc[:, 4], validate.iloc[:, 5], validate.iloc[:, 10]\n",
    "\n",
    "# linear terms\n",
    "a1 = np.matrix(pd.concat([f1, f2, f3, f4], axis=1))\n",
    "# squared terms\n",
    "a2 = np.square(a1)\n",
    "# multiplied terms\n",
    "a3 = np.matrix(pd.concat([f1*f2, f1*f3, f1*f4, f2*f3, f2*f4, f3*f4], axis=1))\n",
    "\n",
    "A_quad_validate = np.concatenate((a1, a2, a3), axis=1)\n",
    "\n",
    "# B matrix\n",
    "\n",
    "b_train = np.array(train.iloc[:, 1])\n",
    "b_train = np.where(b_train == 'M', 1, -1)\n",
    "b_validate = np.array(validate.iloc[:, 1])\n",
    "b_validate = np.where(b_validate == 'M', 1, -1)"
   ]
  },
  {
   "cell_type": "code",
   "execution_count": 126,
   "metadata": {},
   "outputs": [
    {
     "name": "stdout",
     "output_type": "stream",
     "text": [
      "1809248222517.8574 9.056816679044991e+17\n",
      "6 2\n",
      "15 5\n"
     ]
    },
    {
     "name": "stderr",
     "output_type": "stream",
     "text": [
      "C:\\Users\\leymk\\AppData\\Local\\Temp\\ipykernel_11764\\644881898.py:14: LinAlgWarning: Ill-conditioned matrix (rcond=7.90575e-19): result may not be accurate.\n",
      "  w_quad = scipy.linalg.solve(A, b)\n"
     ]
    }
   ],
   "source": [
    "# W matrix\n",
    "\n",
    "# A * w = b\n",
    "# At * A * w = At * b\n",
    "\n",
    "# Linear\n",
    "A = np.matmul(np.transpose(A_lin_train),  A_lin_train)\n",
    "b = np.matmul(np.transpose(A_lin_train), b_train[:, np.newaxis])\n",
    "w_lin = scipy.linalg.solve(A, b)\n",
    "\n",
    "# Quadratic\n",
    "A = np.matmul(np.transpose(A_quad_train),  A_quad_train)\n",
    "b = np.matmul(np.transpose(A_quad_train), b_train[:, np.newaxis])\n",
    "w_quad = scipy.linalg.solve(A, b)\n",
    "\n",
    "# cond(At * A) = cond(A)^2\n",
    "cond_lin = np.linalg.cond(A_lin_train)**2\n",
    "cond_quad = np.linalg.cond(A_quad_train)**2\n",
    "print(cond_lin, cond_quad)\n",
    "\n",
    "# P vector\n",
    "p_lin = np.matmul(A_lin_validate, w_lin)\n",
    "p_lin = np.where(p_lin>0, 1, -1)\n",
    "p_quad = np.matmul(A_quad_validate, w_quad)\n",
    "p_quad = np.where(p_quad>0, 1, -1)\n",
    "\n",
    "# Statistics\n",
    "False_Positive_lin = np.count_nonzero(np.logical_and(p_lin==1,b_validate[:, np.newaxis]==-1) == True)\n",
    "False_Negative_lin = np.count_nonzero(np.logical_and(p_lin==-1,b_validate[:, np.newaxis]==1) == True)\n",
    "\n",
    "print(False_Positive_lin, False_Negative_lin)\n",
    "\n",
    "False_Positive_quad = np.count_nonzero(np.logical_and(p_quad==1,b_validate[:, np.newaxis]==-1) == True)\n",
    "False_Negative_quad = np.count_nonzero(np.logical_and(p_quad==-1,b_validate[:, np.newaxis]==1) == True)\n",
    "\n",
    "print(False_Positive_quad, False_Negative_quad)\n"
   ]
  }
 ],
 "metadata": {
  "kernelspec": {
   "display_name": "Python 3",
   "language": "python",
   "name": "python3"
  },
  "language_info": {
   "codemirror_mode": {
    "name": "ipython",
    "version": 3
   },
   "file_extension": ".py",
   "mimetype": "text/x-python",
   "name": "python",
   "nbconvert_exporter": "python",
   "pygments_lexer": "ipython3",
   "version": "3.12.0"
  }
 },
 "nbformat": 4,
 "nbformat_minor": 2
}
