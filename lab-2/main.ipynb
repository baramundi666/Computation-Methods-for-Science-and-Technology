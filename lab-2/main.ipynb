{
 "cells": [
  {
   "cell_type": "markdown",
   "metadata": {},
   "source": [
    "**Metoda najmniejszych kwadratów**"
   ]
  },
  {
   "cell_type": "code",
   "execution_count": 2,
   "metadata": {},
   "outputs": [],
   "source": [
    "import numpy as np\n",
    "import scipy\n",
    "import matplotlib.pyplot as plt\n",
    "import pandas as pd"
   ]
  },
  {
   "cell_type": "markdown",
   "metadata": {},
   "source": [
    "**Zadanie 1.**"
   ]
  },
  {
   "cell_type": "code",
   "execution_count": 8,
   "metadata": {},
   "outputs": [
    {
     "name": "stdout",
     "output_type": "stream",
     "text": [
      "[[1.799e+01 1.038e+01 1.228e+02 ... 2.654e-01 4.601e-01 1.189e-01]\n",
      " [2.057e+01 1.777e+01 1.329e+02 ... 1.860e-01 2.750e-01 8.902e-02]\n",
      " [1.969e+01 2.125e+01 1.300e+02 ... 2.430e-01 3.613e-01 8.758e-02]\n",
      " ...\n",
      " [1.176e+01 1.814e+01 7.500e+01 ... 7.160e-02 1.978e-01 6.915e-02]\n",
      " [1.426e+01 1.817e+01 9.122e+01 ... 7.530e-02 2.636e-01 7.676e-02]\n",
      " [1.051e+01 2.309e+01 6.685e+01 ... 3.125e-02 2.227e-01 6.777e-02]]\n"
     ]
    }
   ],
   "source": [
    "train_file = \"conspect/dataset/breast-cancer-train.dat\"\n",
    "validate_file = \"conspect/dataset/breast-cancer-validate.dat\"\n",
    "train = pd.io.parsers.read_csv(train_file, header=None)\n",
    "validate = pd.io.parsers.read_csv(validate_file, header=None)\n",
    "# train.iloc[:,2].hist()\n",
    "# plt.show()\n",
    "# train.iloc[:,2].plot()\n",
    "# train\n",
    "A_lin = np.matrix(train.iloc[:,2:])\n",
    "\n",
    "print(A_lin)\n"
   ]
  }
 ],
 "metadata": {
  "kernelspec": {
   "display_name": "Python 3",
   "language": "python",
   "name": "python3"
  },
  "language_info": {
   "codemirror_mode": {
    "name": "ipython",
    "version": 3
   },
   "file_extension": ".py",
   "mimetype": "text/x-python",
   "name": "python",
   "nbconvert_exporter": "python",
   "pygments_lexer": "ipython3",
   "version": "3.11.2"
  }
 },
 "nbformat": 4,
 "nbformat_minor": 2
}
