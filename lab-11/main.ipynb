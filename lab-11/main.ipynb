{
 "cells": [
  {
   "cell_type": "markdown",
   "metadata": {},
   "source": [
    "**Równania różniczkowe - spectral bias**"
   ]
  },
  {
   "cell_type": "code",
   "execution_count": 11,
   "metadata": {},
   "outputs": [
    {
     "ename": "NotImplementedError",
     "evalue": "Unsupported backend: tensorflow.compat.v2.\nPlease select backend from tensorflow.compat.v1, tensorflow, pytorch, jax or paddle.",
     "output_type": "error",
     "traceback": [
      "\u001b[0;31m---------------------------------------------------------------------------\u001b[0m",
      "\u001b[0;31mNotImplementedError\u001b[0m                       Traceback (most recent call last)",
      "Cell \u001b[0;32mIn[11], line 4\u001b[0m\n\u001b[1;32m      2\u001b[0m \u001b[38;5;28;01mimport\u001b[39;00m \u001b[38;5;21;01mscipy\u001b[39;00m\n\u001b[1;32m      3\u001b[0m \u001b[38;5;28;01mimport\u001b[39;00m \u001b[38;5;21;01mmatplotlib\u001b[39;00m\u001b[38;5;21;01m.\u001b[39;00m\u001b[38;5;21;01mpyplot\u001b[39;00m \u001b[38;5;28;01mas\u001b[39;00m \u001b[38;5;21;01mplt\u001b[39;00m\n\u001b[0;32m----> 4\u001b[0m \u001b[38;5;28;01mimport\u001b[39;00m \u001b[38;5;21;01mdeepxde\u001b[39;00m \u001b[38;5;28;01mas\u001b[39;00m \u001b[38;5;21;01mdde\u001b[39;00m\n\u001b[1;32m      5\u001b[0m \u001b[38;5;66;03m# import tensorflow as tf\u001b[39;00m\n\u001b[1;32m      7\u001b[0m dde\u001b[38;5;241m.\u001b[39mbackend\u001b[38;5;241m.\u001b[39mset_default_backend(\u001b[38;5;124m\"\u001b[39m\u001b[38;5;124mtensorflow.compat.v1\u001b[39m\u001b[38;5;124m\"\u001b[39m)\n",
      "File \u001b[0;32m~/Desktop/repos/Computation-Methods-for-Science-and-Technology/.venv/lib/python3.11/site-packages/deepxde/__init__.py:21\u001b[0m\n\u001b[1;32m     18\u001b[0m     __version__ \u001b[38;5;241m=\u001b[39m \u001b[38;5;124m\"\u001b[39m\u001b[38;5;124munknown version\u001b[39m\u001b[38;5;124m\"\u001b[39m\n\u001b[1;32m     20\u001b[0m \u001b[38;5;66;03m# Should import backend before importing anything else\u001b[39;00m\n\u001b[0;32m---> 21\u001b[0m \u001b[38;5;28;01mfrom\u001b[39;00m \u001b[38;5;21;01m.\u001b[39;00m \u001b[38;5;28;01mimport\u001b[39;00m backend\n\u001b[1;32m     23\u001b[0m \u001b[38;5;28;01mfrom\u001b[39;00m \u001b[38;5;21;01m.\u001b[39;00m \u001b[38;5;28;01mimport\u001b[39;00m callbacks\n\u001b[1;32m     24\u001b[0m \u001b[38;5;28;01mfrom\u001b[39;00m \u001b[38;5;21;01m.\u001b[39;00m \u001b[38;5;28;01mimport\u001b[39;00m data\n",
      "File \u001b[0;32m~/Desktop/repos/Computation-Methods-for-Science-and-Technology/.venv/lib/python3.11/site-packages/deepxde/backend/__init__.py:130\u001b[0m\n\u001b[1;32m    126\u001b[0m     set_default_backend(\u001b[38;5;124m\"\u001b[39m\u001b[38;5;124mpaddle\u001b[39m\u001b[38;5;124m\"\u001b[39m)\n\u001b[1;32m    127\u001b[0m     \u001b[38;5;28;01mreturn\u001b[39;00m \u001b[38;5;124m\"\u001b[39m\u001b[38;5;124mpaddle\u001b[39m\u001b[38;5;124m\"\u001b[39m\n\u001b[0;32m--> 130\u001b[0m load_backend(\u001b[43mget_preferred_backend\u001b[49m\u001b[43m(\u001b[49m\u001b[43m)\u001b[49m)\n",
      "File \u001b[0;32m~/Desktop/repos/Computation-Methods-for-Science-and-Technology/.venv/lib/python3.11/site-packages/deepxde/backend/__init__.py:110\u001b[0m, in \u001b[0;36mget_preferred_backend\u001b[0;34m()\u001b[0m\n\u001b[1;32m    108\u001b[0m         backend_name \u001b[38;5;241m=\u001b[39m config_dict\u001b[38;5;241m.\u001b[39mget(\u001b[38;5;124m\"\u001b[39m\u001b[38;5;124mbackend\u001b[39m\u001b[38;5;124m\"\u001b[39m, \u001b[38;5;124m\"\u001b[39m\u001b[38;5;124m\"\u001b[39m)\u001b[38;5;241m.\u001b[39mlower()\n\u001b[1;32m    109\u001b[0m \u001b[38;5;28;01mif\u001b[39;00m backend_name \u001b[38;5;129;01mis\u001b[39;00m \u001b[38;5;129;01mnot\u001b[39;00m \u001b[38;5;28;01mNone\u001b[39;00m:\n\u001b[0;32m--> 110\u001b[0m     \u001b[43mverify_backend\u001b[49m\u001b[43m(\u001b[49m\u001b[43mbackend_name\u001b[49m\u001b[43m)\u001b[49m\n\u001b[1;32m    111\u001b[0m     \u001b[38;5;28;01mreturn\u001b[39;00m backend_name\n\u001b[1;32m    112\u001b[0m \u001b[38;5;66;03m# No backend selected\u001b[39;00m\n",
      "File \u001b[0;32m~/Desktop/repos/Computation-Methods-for-Science-and-Technology/.venv/lib/python3.11/site-packages/deepxde/backend/utils.py:73\u001b[0m, in \u001b[0;36mverify_backend\u001b[0;34m(backend_name)\u001b[0m\n\u001b[1;32m     65\u001b[0m import_funcs \u001b[38;5;241m=\u001b[39m {\n\u001b[1;32m     66\u001b[0m     \u001b[38;5;124m\"\u001b[39m\u001b[38;5;124mtensorflow.compat.v1\u001b[39m\u001b[38;5;124m\"\u001b[39m: import_tensorflow_compat_v1,\n\u001b[1;32m     67\u001b[0m     \u001b[38;5;124m\"\u001b[39m\u001b[38;5;124mtensorflow\u001b[39m\u001b[38;5;124m\"\u001b[39m: import_tensorflow,\n\u001b[0;32m   (...)\u001b[0m\n\u001b[1;32m     70\u001b[0m     \u001b[38;5;124m\"\u001b[39m\u001b[38;5;124mpaddle\u001b[39m\u001b[38;5;124m\"\u001b[39m: import_paddle,\n\u001b[1;32m     71\u001b[0m }\n\u001b[1;32m     72\u001b[0m \u001b[38;5;28;01mif\u001b[39;00m backend_name \u001b[38;5;129;01mnot\u001b[39;00m \u001b[38;5;129;01min\u001b[39;00m import_funcs:\n\u001b[0;32m---> 73\u001b[0m     \u001b[38;5;28;01mraise\u001b[39;00m \u001b[38;5;167;01mNotImplementedError\u001b[39;00m(\n\u001b[1;32m     74\u001b[0m         \u001b[38;5;124mf\u001b[39m\u001b[38;5;124m\"\u001b[39m\u001b[38;5;124mUnsupported backend: \u001b[39m\u001b[38;5;132;01m{\u001b[39;00mbackend_name\u001b[38;5;132;01m}\u001b[39;00m\u001b[38;5;124m.\u001b[39m\u001b[38;5;130;01m\\n\u001b[39;00m\u001b[38;5;124m\"\u001b[39m\n\u001b[1;32m     75\u001b[0m         \u001b[38;5;124m\"\u001b[39m\u001b[38;5;124mPlease select backend from tensorflow.compat.v1, tensorflow, pytorch, jax or paddle.\u001b[39m\u001b[38;5;124m\"\u001b[39m\n\u001b[1;32m     76\u001b[0m     )\n\u001b[1;32m     77\u001b[0m \u001b[38;5;28;01mif\u001b[39;00m \u001b[38;5;129;01mnot\u001b[39;00m import_funcs[backend_name]():\n\u001b[1;32m     78\u001b[0m     \u001b[38;5;28;01mraise\u001b[39;00m \u001b[38;5;167;01mRuntimeError\u001b[39;00m(\n\u001b[1;32m     79\u001b[0m         \u001b[38;5;124mf\u001b[39m\u001b[38;5;124m\"\u001b[39m\u001b[38;5;124mBackend is set as \u001b[39m\u001b[38;5;132;01m{\u001b[39;00mbackend_name\u001b[38;5;132;01m}\u001b[39;00m\u001b[38;5;124m, but \u001b[39m\u001b[38;5;124m'\u001b[39m\u001b[38;5;132;01m{\u001b[39;00mbackend_name\u001b[38;5;132;01m}\u001b[39;00m\u001b[38;5;124m'\u001b[39m\u001b[38;5;124m failed to import.\u001b[39m\u001b[38;5;124m\"\u001b[39m\n\u001b[1;32m     80\u001b[0m     )\n",
      "\u001b[0;31mNotImplementedError\u001b[0m: Unsupported backend: tensorflow.compat.v2.\nPlease select backend from tensorflow.compat.v1, tensorflow, pytorch, jax or paddle."
     ]
    }
   ],
   "source": [
    "import numpy as np\n",
    "import scipy\n",
    "import matplotlib.pyplot as plt\n",
    "import deepxde as dde\n",
    "# import tensorflow as tf\n",
    "import deepxde.backend as tf\n",
    "tf.set_default_backend(\"tensorflow.compat.v1\")\n",
    "\n",
    "# import tensorflow.compat.v1 as tf\n",
    "# tf.disable_eager_execution()\n"
   ]
  },
  {
   "cell_type": "markdown",
   "metadata": {},
   "source": [
    "**Zadanie 1.**"
   ]
  },
  {
   "cell_type": "code",
   "execution_count": null,
   "metadata": {},
   "outputs": [],
   "source": [
    "# Problem specific data\n",
    "a = -2*np.pi\n",
    "b = 2*np.pi"
   ]
  },
  {
   "cell_type": "code",
   "execution_count": null,
   "metadata": {},
   "outputs": [],
   "source": [
    "# Procedure definition\n",
    "def Procedure(omega, hidden_layers, neurons_per_layer, num_training, num_test):\n",
    "    # Domain\n",
    "    def ode(x, y) :\n",
    "        du_x = dde . grad . jacobian (y , x , i =0 , j =0)\n",
    "        return du_x - tf.cos(omega*x)\n",
    "    \n",
    "    geom = dde.geometry.Interval(a, b)\n",
    "    \n",
    "    # Conditions and training data\n",
    "    bc = dde.icbc.DirichletBC(geom, lambda x: 0,\n",
    "                    lambda _, on_boundary: on_boundary)\n",
    "\n",
    "    data = dde.data.PDE(\n",
    "        geom,\n",
    "        ode,\n",
    "        bc,\n",
    "        num_domain = num_training,\n",
    "        num_test = num_test,\n",
    "    )\n",
    "\n",
    "    # Network\n",
    "    layer_size = [1] + [neurons_per_layer]*hidden_layers + [1]\n",
    "    activation = \"tanh\"\n",
    "    initializer = \"Glorot normal\"\n",
    "    net = dde.nn.FNN(layer_size, activation, initializer)\n",
    "\n",
    "    # Model\n",
    "    model = dde.Model(data, net)\n",
    "    optimizer = \"adam\"\n",
    "    model.compile(optimizer, lr=0.001)\n",
    "    losshistory, train_state = model.train(iterations=50000)\n",
    "\n",
    "    # Results\n",
    "    x_data = np.linspace(a, b, num=num_test)[:, None]\n",
    "\n",
    "    u_pred = model.predict(x_data)\n",
    "    u_true = 1/omega * np.sin(omega*x_data)\n",
    "    residual = model.predict(x_data, operator=ode)\n",
    "\n",
    "    return x_data, u_pred, u_true, residual\n"
   ]
  },
  {
   "cell_type": "code",
   "execution_count": null,
   "metadata": {},
   "outputs": [],
   "source": [
    "x_data, u_pred, u_true, residual = Procedure(1.0, 2, 16, 200, 1000)\n",
    "\n",
    "# Plot\n",
    "plt.title('PINN, analytical solutions comparison')\n",
    "plt.plot(x_data, u_pred, label='model prediction for u')\n",
    "plt.plot(x_data, u_true, label='analytical solution for u', linestyle='dashed')\n",
    "plt.xlabel('x')\n",
    "plt.ylabel('u')\n",
    "plt.legend(loc='upper center', bbox_to_anchor=(0.5, -0.15),\n",
    "        fancybox=True, shadow=True, ncol=1)\n",
    "plt.grid()\n",
    "plt.show()"
   ]
  },
  {
   "cell_type": "code",
   "execution_count": null,
   "metadata": {},
   "outputs": [],
   "source": [
    "for layers, neurons in [(2, 16), (4, 64), (5, 128)]:  \n",
    "        x_data, u_pred, u_true, residual = Procedure(15.0, layers, neurons, 200*15, 5000)\n",
    "\n",
    "        # Plot\n",
    "        plt.title('PINN, analytical solutions comparison')\n",
    "        plt.plot(x_data, u_pred, label='model prediction for u')\n",
    "        plt.plot(x_data, u_true, label='analytical solution for u', linestyle='dashed')\n",
    "        plt.xlabel('x')\n",
    "        plt.ylabel('u')\n",
    "        plt.legend(loc='upper center', bbox_to_anchor=(0.5, -0.15),\n",
    "                fancybox=True, shadow=True, ncol=1)\n",
    "        plt.grid()\n",
    "        plt.show()"
   ]
  }
 ],
 "metadata": {
  "kernelspec": {
   "display_name": ".venv",
   "language": "python",
   "name": "python3"
  },
  "language_info": {
   "codemirror_mode": {
    "name": "ipython",
    "version": 3
   },
   "file_extension": ".py",
   "mimetype": "text/x-python",
   "name": "python",
   "nbconvert_exporter": "python",
   "pygments_lexer": "ipython3",
   "version": "3.11.2"
  }
 },
 "nbformat": 4,
 "nbformat_minor": 2
}
